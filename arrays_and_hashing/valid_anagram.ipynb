{
 "cells": [
  {
   "cell_type": "markdown",
   "metadata": {},
   "source": [
    "### Valid Anagram\n",
    "\n",
    "#### Difficulty: Easy\n",
    "___\n",
    "Given two strings s and t, return true if the two strings are anagrams of each other, otherwise return false.\n",
    "\n",
    "An anagram is a string that contains the exact same characters as another string, but the order of the characters can be different.\n",
    "___\n",
    "#### Examples\n",
    "- Example 1:\n",
    "\n",
    "    Input: s = \"racecar\", t = \"carrace\"\n",
    "\n",
    "    Output: true\n",
    "- Example 2:\n",
    "\n",
    "    Input: s = \"jar\", t = \"jam\"\n",
    "\n",
    "    Output: false\n",
    "___\n",
    "#### Constraints:\n",
    "\n",
    "- s and t consist of lowercase English letters."
   ]
  },
  {
   "cell_type": "markdown",
   "metadata": {},
   "source": [
    "#### Solution"
   ]
  },
  {
   "cell_type": "code",
   "execution_count": 1,
   "metadata": {},
   "outputs": [],
   "source": [
    "def isAnagram(s: str, t: str) -> bool:\n",
    "    if len(s) != len(t):\n",
    "        return False\n",
    "\n",
    "    count_s, count_t = {}, {}\n",
    "    for a, b in zip(s, t):\n",
    "        count_s[a] = count_s.get(a, 0) + 1\n",
    "        count_t[b] = count_t.get(b, 0) + 1\n",
    "\n",
    "    return count_s == count_t"
   ]
  },
  {
   "cell_type": "code",
   "execution_count": 2,
   "metadata": {},
   "outputs": [
    {
     "name": "stdout",
     "output_type": "stream",
     "text": [
      "True\n",
      "False\n"
     ]
    }
   ],
   "source": [
    "test_cases = [\n",
    "    {\n",
    "        \"s\": \"racecar\",\n",
    "        \"t\": \"carrace\"\n",
    "    },\n",
    "    {\n",
    "        \"s\": \"jar\",\n",
    "        \"t\": \"jam\"\n",
    "    }\n",
    "]\n",
    "for case in test_cases:\n",
    "    print(isAnagram(**case))"
   ]
  },
  {
   "cell_type": "code",
   "execution_count": null,
   "metadata": {},
   "outputs": [],
   "source": []
  }
 ],
 "metadata": {
  "kernelspec": {
   "display_name": ".venv",
   "language": "python",
   "name": "python3"
  },
  "language_info": {
   "codemirror_mode": {
    "name": "ipython",
    "version": 3
   },
   "file_extension": ".py",
   "mimetype": "text/x-python",
   "name": "python",
   "nbconvert_exporter": "python",
   "pygments_lexer": "ipython3",
   "version": "3.13.2"
  }
 },
 "nbformat": 4,
 "nbformat_minor": 2
}
