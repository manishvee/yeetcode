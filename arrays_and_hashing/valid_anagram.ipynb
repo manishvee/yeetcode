{
 "cells": [
  {
   "cell_type": "markdown",
   "metadata": {},
   "source": [
    "# Valid Anagram\n",
    "\n",
    "Difficulty: Easy\n",
    "\n",
    "Given two strings s and t, return true if the two strings are anagrams of each other, otherwise return false.\n",
    "\n",
    "An anagram is a string that contains the exact same characters as another string, but the order of the characters can be different.\n",
    "\n",
    "Example 1:\n",
    "\n",
    "Input: s = \"racecar\", t = \"carrace\"\n",
    "\n",
    "Output: true\n",
    "Example 2:\n",
    "\n",
    "Input: s = \"jar\", t = \"jam\"\n",
    "\n",
    "Output: false\n",
    "Constraints:\n",
    "\n",
    "s and t consist of lowercase English letters."
   ]
  },
  {
   "cell_type": "code",
   "execution_count": null,
   "metadata": {
    "vscode": {
     "languageId": "plaintext"
    }
   },
   "outputs": [],
   "source": [
    "class Solution:\n",
    "    def isAnagram(self, s: str, t: str) -> bool:\n",
    "        if len(s) != len(t):\n",
    "            return False\n",
    "\n",
    "        count_s, count_t = {}, {}\n",
    "        for a, b in zip(s, t):\n",
    "            count_s[a] = count_s.get(a, 0) + 1\n",
    "            count_t[b] = count_t.get(b, 0) + 1\n",
    "\n",
    "        return count_s == count_t"
   ]
  },
  {
   "cell_type": "code",
   "execution_count": null,
   "metadata": {
    "vscode": {
     "languageId": "plaintext"
    }
   },
   "outputs": [],
   "source": []
  }
 ],
 "metadata": {
  "language_info": {
   "name": "python"
  }
 },
 "nbformat": 4,
 "nbformat_minor": 2
}
