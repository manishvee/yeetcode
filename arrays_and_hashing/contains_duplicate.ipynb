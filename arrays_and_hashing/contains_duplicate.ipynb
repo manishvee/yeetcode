{
 "cells": [
  {
   "cell_type": "markdown",
   "metadata": {},
   "source": [
    "### Contains Duplicate\n",
    "\n",
    "#### Difficulty: Easy\n",
    "___\n",
    "Given an integer array nums, return true if any value appears more than once in the array, otherwise return false.\n",
    "___\n",
    "#### Examples\n",
    "- Example 1:\n",
    "\n",
    "    Input: nums = [1, 2, 3, 3]\n",
    "\n",
    "    Output: true\n",
    "\n",
    "- Example 2:\n",
    "\n",
    "    Input: nums = [1, 2, 3, 4]\n",
    "\n",
    "    Output: false\n",
    "___"
   ]
  },
  {
   "cell_type": "code",
   "execution_count": 1,
   "metadata": {},
   "outputs": [],
   "source": [
    "from typing import List\n",
    "\n",
    "def hasDuplicate(nums: List[int]) -> bool:\n",
    "    nums_hash = set()\n",
    "    for n in nums:\n",
    "        if n in nums_hash:\n",
    "            return True\n",
    "        nums_hash.add(n)\n",
    "    return False"
   ]
  },
  {
   "cell_type": "code",
   "execution_count": 2,
   "metadata": {},
   "outputs": [
    {
     "name": "stdout",
     "output_type": "stream",
     "text": [
      "True\n",
      "False\n"
     ]
    }
   ],
   "source": [
    "test_cases = [\n",
    "    [1, 2, 3, 3],\n",
    "    [1, 2, 3, 4],\n",
    "]\n",
    "\n",
    "for case in test_cases:\n",
    "    print(hasDuplicate(case))"
   ]
  },
  {
   "cell_type": "code",
   "execution_count": null,
   "metadata": {},
   "outputs": [],
   "source": []
  }
 ],
 "metadata": {
  "kernelspec": {
   "display_name": ".venv",
   "language": "python",
   "name": "python3"
  },
  "language_info": {
   "codemirror_mode": {
    "name": "ipython",
    "version": 3
   },
   "file_extension": ".py",
   "mimetype": "text/x-python",
   "name": "python",
   "nbconvert_exporter": "python",
   "pygments_lexer": "ipython3",
   "version": "3.13.2"
  }
 },
 "nbformat": 4,
 "nbformat_minor": 2
}
