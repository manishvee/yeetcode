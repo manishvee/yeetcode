{
 "cells": [
  {
   "cell_type": "markdown",
   "metadata": {},
   "source": [
    "### Product of Array Except Self\n",
    "\n",
    "#### Difficulty: Medium\n",
    "___\n",
    "Given an integer array nums, return an array output where output[i] is the product of all the elements of nums except nums[i].\n",
    "\n",
    "Each product is guaranteed to fit in a 32-bit integer.\n",
    "___\n",
    "#### Examples\n",
    "\n",
    "- Example 1:\n",
    "\n",
    "    Input: nums = [1,2,4,6]\n",
    "\n",
    "    Output: [48,24,12,8]\n",
    "\n",
    "- Example 2:\n",
    "\n",
    "    Input: nums = [-1,0,1,2,3]\n",
    "\n",
    "    Output: [0,-6,0,0,0]\n",
    "___\n",
    "#### Constraints:\n",
    "- 2 <= nums.length <= 1000\n",
    "- -20 <= nums[i] <= 20"
   ]
  },
  {
   "cell_type": "markdown",
   "metadata": {},
   "source": [
    "#### Solution"
   ]
  },
  {
   "cell_type": "code",
   "execution_count": 1,
   "metadata": {},
   "outputs": [],
   "source": [
    "from typing import List\n",
    "\n",
    "def productExceptSelf(nums: List[int]) -> List[int]:\n",
    "    length = len(nums)\n",
    "    forward, backward = [1] * length, [1] * length\n",
    "\n",
    "    for i in range(1, length):\n",
    "        forward[i] = forward[i-1] * nums[i-1]\n",
    "        backward[-i-1] = nums[-i] * backward[-i]\n",
    "\n",
    "    return [f*b for f, b in zip(forward, backward)]"
   ]
  },
  {
   "cell_type": "code",
   "execution_count": 2,
   "metadata": {},
   "outputs": [
    {
     "name": "stdout",
     "output_type": "stream",
     "text": [
      "[48, 24, 12, 8]\n",
      "[0, -6, 0, 0, 0]\n"
     ]
    }
   ],
   "source": [
    "test_cases = [\n",
    "    [1,2,4,6],\n",
    "    [-1,0,1,2,3],\n",
    "]\n",
    "for case in test_cases:\n",
    "    print(productExceptSelf(case))"
   ]
  },
  {
   "cell_type": "code",
   "execution_count": null,
   "metadata": {},
   "outputs": [],
   "source": []
  }
 ],
 "metadata": {
  "kernelspec": {
   "display_name": ".venv",
   "language": "python",
   "name": "python3"
  },
  "language_info": {
   "codemirror_mode": {
    "name": "ipython",
    "version": 3
   },
   "file_extension": ".py",
   "mimetype": "text/x-python",
   "name": "python",
   "nbconvert_exporter": "python",
   "pygments_lexer": "ipython3",
   "version": "3.13.2"
  }
 },
 "nbformat": 4,
 "nbformat_minor": 2
}
