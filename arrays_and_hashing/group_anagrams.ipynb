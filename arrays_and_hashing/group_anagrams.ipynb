{
 "cells": [
  {
   "cell_type": "markdown",
   "metadata": {},
   "source": [
    "### Group Anagrams\n",
    "\n",
    "#### Difficulty: Medium\n",
    "___\n",
    "Given an array of strings strs, group all anagrams together into sublists. You may return the output in any order.\n",
    "\n",
    "An anagram is a string that contains the exact same characters as another string, but the order of the characters can be different.\n",
    "___\n",
    "#### Examples\n",
    "- Example 1:\n",
    "\n",
    "    Input: strs = [\"act\",\"pots\",\"tops\",\"cat\",\"stop\",\"hat\"]\n",
    "\n",
    "    Output: [[\"hat\"],[\"act\", \"cat\"],[\"stop\", \"pots\", \"tops\"]]\n",
    "\n",
    "- Example 2:\n",
    "\n",
    "    Input: strs = [\"x\"]\n",
    "\n",
    "    Output: [[\"x\"]]\n",
    "\n",
    "- Example 3:\n",
    "\n",
    "    Input: strs = [\"\"]\n",
    "\n",
    "    Output: [[\"\"]]\n",
    "___\n",
    "#### Constraints:\n",
    "\n",
    "- 1 <= strs.length <= 1000.\n",
    "- 0 <= strs[i].length <= 100\n",
    "- strs[i] is made up of lowercase English letters."
   ]
  },
  {
   "cell_type": "markdown",
   "metadata": {},
   "source": [
    "#### Solution"
   ]
  },
  {
   "cell_type": "code",
   "execution_count": 1,
   "metadata": {},
   "outputs": [],
   "source": [
    "from collections import defaultdict\n",
    "from typing import List\n",
    "\n",
    "def groupAnagrams(strs: List[str]) -> List[List[str]]:\n",
    "    groups = defaultdict(list)\n",
    "    for s in strs:\n",
    "        index = [0] * 26\n",
    "        for c in s:\n",
    "            index[ord(c)-ord('a')] += 1\n",
    "\n",
    "        groups[tuple(index)].append(s)\n",
    "\n",
    "    return groups.values()"
   ]
  },
  {
   "cell_type": "code",
   "execution_count": 2,
   "metadata": {},
   "outputs": [
    {
     "name": "stdout",
     "output_type": "stream",
     "text": [
      "dict_values([['act', 'cat'], ['pots', 'tops', 'stop'], ['hat']])\n",
      "dict_values([['x']])\n",
      "dict_values([['']])\n"
     ]
    }
   ],
   "source": [
    "test_cases = [\n",
    "    [\"act\",\"pots\",\"tops\",\"cat\",\"stop\",\"hat\"],\n",
    "    [\"x\"],\n",
    "    [\"\"]\n",
    "]\n",
    "for case in test_cases:\n",
    "    print(groupAnagrams(case))"
   ]
  },
  {
   "cell_type": "code",
   "execution_count": null,
   "metadata": {},
   "outputs": [],
   "source": []
  }
 ],
 "metadata": {
  "kernelspec": {
   "display_name": ".venv",
   "language": "python",
   "name": "python3"
  },
  "language_info": {
   "codemirror_mode": {
    "name": "ipython",
    "version": 3
   },
   "file_extension": ".py",
   "mimetype": "text/x-python",
   "name": "python",
   "nbconvert_exporter": "python",
   "pygments_lexer": "ipython3",
   "version": "3.13.2"
  }
 },
 "nbformat": 4,
 "nbformat_minor": 2
}
