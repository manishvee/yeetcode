{
 "cells": [
  {
   "cell_type": "markdown",
   "metadata": {},
   "source": [
    "### Longest Consecutive Sequence\n",
    "\n",
    "#### Difficulty: Medium\n",
    "___\n",
    "Given an array of integers nums, return the length of the longest consecutive sequence of elements that can be formed.\n",
    "\n",
    "A consecutive sequence is a sequence of elements in which each element is exactly 1 greater than the previous element. The elements do not have to be consecutive in the original array.\n",
    "\n",
    "You must write an algorithm that runs in O(n) time.\n",
    "___\n",
    "#### Examples\n",
    "- Example 1:\n",
    "\n",
    "    Input: nums = [2,20,4,10,3,4,5]\n",
    "\n",
    "    Output: 4\n",
    "\n",
    "    Explanation: The longest consecutive sequence is [2, 3, 4, 5].\n",
    "\n",
    "- Example 2:\n",
    "\n",
    "    Input: nums = [0,3,2,5,4,6,1,1]\n",
    "\n",
    "    Output: 7\n",
    "___\n",
    "#### Constraints\n",
    "- 0 <= nums.length <= 1000\n",
    "- -10^9 <= nums[i] <= 10^9\n"
   ]
  },
  {
   "cell_type": "markdown",
   "metadata": {},
   "source": [
    "#### Solution\n",
    "- First, convert the input list into a set for fast lookups\n",
    "- Iterate over the list and check if the number 1 less than the current number exists in the set. If true, this means that the current number is not the start of the sequence, so ignore it. If false, this means that the number is the start of the sequence, so proceed.\n",
    "- Maintain a length counter and iterate numbers with increment of 1 and check if each of these numbers exists in the set. Increment the length counter if it exists, else exit the inner loop.\n",
    "- Assign result to the maximum between the existing result and the new length count."
   ]
  },
  {
   "cell_type": "code",
   "execution_count": 3,
   "metadata": {},
   "outputs": [],
   "source": [
    "from typing import List\n",
    "\n",
    "def longestConsecutive(nums: List[int]) -> int:\n",
    "    nums_set = set(nums)\n",
    "    res = 0\n",
    "\n",
    "    for n in nums:\n",
    "        if n-1 not in nums_set:\n",
    "            cur, length = n, 1\n",
    "            while True:\n",
    "                if cur + 1 in nums_set:\n",
    "                    length += 1\n",
    "                    cur += 1\n",
    "                else:\n",
    "                    break\n",
    "            res = max(res, length)\n",
    "    return res\n"
   ]
  },
  {
   "cell_type": "code",
   "execution_count": 4,
   "metadata": {},
   "outputs": [
    {
     "name": "stdout",
     "output_type": "stream",
     "text": [
      "4\n",
      "7\n"
     ]
    }
   ],
   "source": [
    "test_cases = [\n",
    "    [2,20,4,10,3,4,5],\n",
    "    [0,3,2,5,4,6,1,1],\n",
    "]\n",
    "\n",
    "for case in test_cases:\n",
    "    print(longestConsecutive(case))"
   ]
  },
  {
   "cell_type": "code",
   "execution_count": null,
   "metadata": {},
   "outputs": [],
   "source": []
  }
 ],
 "metadata": {
  "kernelspec": {
   "display_name": ".venv",
   "language": "python",
   "name": "python3"
  },
  "language_info": {
   "codemirror_mode": {
    "name": "ipython",
    "version": 3
   },
   "file_extension": ".py",
   "mimetype": "text/x-python",
   "name": "python",
   "nbconvert_exporter": "python",
   "pygments_lexer": "ipython3",
   "version": "3.13.2"
  }
 },
 "nbformat": 4,
 "nbformat_minor": 2
}
