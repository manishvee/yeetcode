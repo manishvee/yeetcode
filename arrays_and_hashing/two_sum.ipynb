{
 "cells": [
  {
   "cell_type": "markdown",
   "metadata": {},
   "source": [
    "### Two Sum\n",
    "\n",
    "#### Difficulty: Easy\n",
    "___\n",
    "Given an array of integers nums and an integer target, return the indices i and j such that nums[i] + nums[j] == target and i != j.\n",
    "\n",
    "You may assume that every input has exactly one pair of indices i and j that satisfy the condition.\n",
    "\n",
    "Return the answer with the smaller index first.\n",
    "___\n",
    "#### Examples\n",
    "- Example 1:\n",
    "\n",
    "    Input: nums = [3,4,5,6], target = 7\n",
    "\n",
    "    Output: [0,1]\n",
    "    Explanation: nums[0] + nums[1] == 7, so we return [0, 1].\n",
    "\n",
    "- Example 2:\n",
    "\n",
    "    Input: nums = [4,5,6], target = 10\n",
    "\n",
    "    Output: [0,2]\n",
    "- Example 3:\n",
    "\n",
    "    Input: nums = [5,5], target = 10\n",
    "\n",
    "    Output: [0,1]\n",
    "___\n",
    "#### Constraints:\n",
    "\n",
    "- 2 <= nums.length <= 1000\n",
    "- -10,000,000 <= nums[i] <= 10,000,000\n",
    "- -10,000,000 <= target <= 10,000,000"
   ]
  },
  {
   "cell_type": "markdown",
   "metadata": {},
   "source": [
    "#### Solution"
   ]
  },
  {
   "cell_type": "code",
   "execution_count": 1,
   "metadata": {},
   "outputs": [],
   "source": [
    "from typing import List\n",
    "\n",
    "def twoSum(nums: List[int], target: int) -> List[int]:\n",
    "    diffs = {}\n",
    "    for i in range(len(nums)):\n",
    "        if nums[i] in diffs:\n",
    "            return [diffs[nums[i]], i]\n",
    "        diffs[target-nums[i]] = i\n"
   ]
  },
  {
   "cell_type": "code",
   "execution_count": 2,
   "metadata": {},
   "outputs": [
    {
     "name": "stdout",
     "output_type": "stream",
     "text": [
      "[0, 1]\n",
      "[0, 2]\n"
     ]
    }
   ],
   "source": [
    "test_cases = [\n",
    "    {\n",
    "        \"nums\":[3,4,5,6],\n",
    "        \"target\": 7\n",
    "    },\n",
    "    {\n",
    "        \"nums\":[4,5,6],\n",
    "        \"target\": 10\n",
    "    }\n",
    "]\n",
    "for case in test_cases:\n",
    "    print(twoSum(**case))"
   ]
  },
  {
   "cell_type": "code",
   "execution_count": null,
   "metadata": {},
   "outputs": [],
   "source": []
  }
 ],
 "metadata": {
  "kernelspec": {
   "display_name": ".venv",
   "language": "python",
   "name": "python3"
  },
  "language_info": {
   "codemirror_mode": {
    "name": "ipython",
    "version": 3
   },
   "file_extension": ".py",
   "mimetype": "text/x-python",
   "name": "python",
   "nbconvert_exporter": "python",
   "pygments_lexer": "ipython3",
   "version": "3.13.2"
  }
 },
 "nbformat": 4,
 "nbformat_minor": 2
}
