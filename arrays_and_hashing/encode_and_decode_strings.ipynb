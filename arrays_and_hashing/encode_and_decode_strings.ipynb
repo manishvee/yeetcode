{
 "cells": [
  {
   "cell_type": "markdown",
   "metadata": {},
   "source": [
    "# Encode and Decode Strings\n",
    "\n",
    "Difficulty: Medium\n",
    "\n",
    "Design an algorithm to encode a list of strings to a single string. The encoded string is then decoded back to the original list of strings.\n",
    "\n",
    "Please implement encode and decode\n",
    "\n",
    "Example 1:\n",
    "\n",
    "Input: [\"neet\",\"code\",\"love\",\"you\"]\n",
    "\n",
    "Output:[\"neet\",\"code\",\"love\",\"you\"]\n",
    "\n",
    "Example 2:\n",
    "\n",
    "Input: [\"we\",\"say\",\":\",\"yes\"]\n",
    "\n",
    "Output: [\"we\",\"say\",\":\",\"yes\"]\n",
    "\n",
    "Constraints:\n",
    "\n",
    "0 <= strs.length < 100\n",
    "0 <= strs[i].length < 200\n",
    "strs[i] contains only UTF-8 characters."
   ]
  },
  {
   "cell_type": "code",
   "execution_count": null,
   "metadata": {
    "vscode": {
     "languageId": "plaintext"
    }
   },
   "outputs": [],
   "source": [
    "class Solution:\n",
    "\n",
    "    def encode(self, strs: List[str]) -> str:\n",
    "        res = \"\"\n",
    "        for s in strs:\n",
    "            res = f\"{res}{len(s)}${s}\"\n",
    "\n",
    "        return res\n",
    "\n",
    "    def decode(self, s: str) -> List[str]:\n",
    "        res = []\n",
    "        i = 0\n",
    "\n",
    "        while i < len(s):\n",
    "            j = i\n",
    "            while s[j] != \"$\":\n",
    "                j += 1\n",
    "            length = int(s[i:j])\n",
    "            j += 1\n",
    "            res.append(s[j: j+length])\n",
    "            i = j + length\n",
    "        \n",
    "        return res"
   ]
  }
 ],
 "metadata": {
  "language_info": {
   "name": "python"
  }
 },
 "nbformat": 4,
 "nbformat_minor": 2
}
