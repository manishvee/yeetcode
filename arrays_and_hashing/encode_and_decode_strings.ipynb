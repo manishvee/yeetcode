{
 "cells": [
  {
   "cell_type": "markdown",
   "metadata": {},
   "source": [
    "### Encode and Decode Strings\n",
    "#### Difficulty: Medium\n",
    "___\n",
    "Design an algorithm to encode a list of strings to a single string. The encoded string is then decoded back to the original list of strings.\n",
    "\n",
    "Please implement encode and decode\n",
    "___\n",
    "#### Examples\n",
    "- Example 1:\n",
    "\n",
    "    Input: [\"neet\",\"code\",\"love\",\"you\"]\n",
    "\n",
    "    Output:[\"neet\",\"code\",\"love\",\"you\"]\n",
    "\n",
    "- Example 2:\n",
    "\n",
    "    Input: [\"we\",\"say\",\":\",\"yes\"]\n",
    "\n",
    "    Output: [\"we\",\"say\",\":\",\"yes\"]\n",
    "___\n",
    "#### Constraints:\n",
    "- 0 <= strs.length < 100\n",
    "- 0 <= strs[i].length < 200\n",
    "- strs[i] contains only UTF-8 characters."
   ]
  },
  {
   "cell_type": "markdown",
   "metadata": {},
   "source": [
    "#### Solution\n",
    "\n",
    "- During the encoding phase, prepend each input string with the length of the input string, followed by a special delimiter character.\n",
    "- This helps to identify the start of each string during the decoding phase, and also the length upto which the current string extends.\n",
    "- During the decoding phase, iterate over each character in the encoded string until the special character is encountered. All the characters read thus far will yield the length of the string to be extracted.\n",
    "- Now simply index into the decoded string, starting from the character after the special character, and extending until the length, to extract the decoded string."
   ]
  },
  {
   "cell_type": "code",
   "execution_count": 1,
   "metadata": {},
   "outputs": [],
   "source": [
    "from typing import List\n",
    "\n",
    "def encode(strs: List[str]) -> str:\n",
    "    res = \"\"\n",
    "    for s in strs:\n",
    "        res = f\"{res}{len(s)}${s}\"\n",
    "\n",
    "    return res\n",
    "\n",
    "def decode(s: str) -> List[str]:\n",
    "    res = []\n",
    "    i = 0\n",
    "\n",
    "    while i < len(s):\n",
    "        j = i\n",
    "        while s[j] != \"$\":\n",
    "            j += 1\n",
    "        length = int(s[i:j])\n",
    "        j += 1\n",
    "        res.append(s[j: j+length])\n",
    "        i = j + length\n",
    "    \n",
    "    return res"
   ]
  },
  {
   "cell_type": "code",
   "execution_count": 2,
   "metadata": {},
   "outputs": [
    {
     "name": "stdout",
     "output_type": "stream",
     "text": [
      "4$neet4$code4$love3$you\n",
      "['neet', 'code', 'love', 'you']\n",
      "2$we3$say1$:3$yes\n",
      "['we', 'say', ':', 'yes']\n"
     ]
    }
   ],
   "source": [
    "test_cases = [\n",
    "    [\"neet\",\"code\",\"love\",\"you\"],\n",
    "    [\"we\",\"say\",\":\",\"yes\"],\n",
    "]\n",
    "for case in test_cases:\n",
    "    encoded_string = encode(case)\n",
    "    print(encoded_string)\n",
    "    print(decode(encoded_string))"
   ]
  },
  {
   "cell_type": "code",
   "execution_count": null,
   "metadata": {},
   "outputs": [],
   "source": []
  }
 ],
 "metadata": {
  "kernelspec": {
   "display_name": ".venv",
   "language": "python",
   "name": "python3"
  },
  "language_info": {
   "codemirror_mode": {
    "name": "ipython",
    "version": 3
   },
   "file_extension": ".py",
   "mimetype": "text/x-python",
   "name": "python",
   "nbconvert_exporter": "python",
   "pygments_lexer": "ipython3",
   "version": "3.13.2"
  }
 },
 "nbformat": 4,
 "nbformat_minor": 2
}
