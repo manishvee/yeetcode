{
 "cells": [
  {
   "cell_type": "markdown",
   "metadata": {},
   "source": [
    "# Top K Frequent Elements\n",
    "\n",
    "Difficulty: Medium\n",
    "\n",
    "Given an integer array nums and an integer k, return the k most frequent elements within the array.\n",
    "\n",
    "The test cases are generated such that the answer is always unique.\n",
    "\n",
    "You may return the output in any order.\n",
    "\n",
    "Example 1:\n",
    "\n",
    "Input: nums = [1,2,2,3,3,3], k = 2\n",
    "\n",
    "Output: [2,3]\n",
    "\n",
    "Example 2:\n",
    "\n",
    "Input: nums = [7,7], k = 1\n",
    "\n",
    "Output: [7]\n",
    "\n",
    "Constraints:\n",
    "\n",
    "1 <= nums.length <= 10^4.\n",
    "\n",
    "-1000 <= nums[i] <= 1000\n",
    "\n",
    "1 <= k <= number of distinct elements in nums."
   ]
  },
  {
   "cell_type": "code",
   "execution_count": null,
   "metadata": {},
   "outputs": [],
   "source": [
    "from collections import defaultdict\n",
    "\n",
    "class Solution:\n",
    "    def topKFrequent(self, nums: List[int], k: int) -> List[int]:\n",
    "        counts = {}\n",
    "        for n in nums:\n",
    "            counts[n] = counts.get(n, 0) + 1\n",
    "\n",
    "        inverse_counts = defaultdict(list)\n",
    "        max_count = 0\n",
    "        for num, count in counts.items():\n",
    "            inverse_counts[count].append(num)\n",
    "            max_count = max(count, max_count)\n",
    "\n",
    "        res = []\n",
    "        for i in range(max_count,0,-1):\n",
    "            for num in inverse_counts.get(i, []):\n",
    "                if len(res) == k:\n",
    "                    return res\n",
    "                res.append(num)\n",
    "                    \n",
    "        return res"
   ]
  }
 ],
 "metadata": {
  "kernelspec": {
   "display_name": ".venv",
   "language": "python",
   "name": "python3"
  },
  "language_info": {
   "codemirror_mode": {
    "name": "ipython",
    "version": 3
   },
   "file_extension": ".py",
   "mimetype": "text/x-python",
   "name": "python",
   "nbconvert_exporter": "python",
   "pygments_lexer": "ipython3",
   "version": "3.13.2"
  }
 },
 "nbformat": 4,
 "nbformat_minor": 2
}
