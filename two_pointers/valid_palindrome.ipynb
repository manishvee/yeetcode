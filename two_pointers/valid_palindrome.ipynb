{
 "cells": [
  {
   "cell_type": "markdown",
   "metadata": {},
   "source": [
    "# Valid Palindrome\n",
    "\n",
    "Difficulty: Easy\n",
    "\n",
    "Given a string s, return true if it is a palindrome, otherwise return false.\n",
    "\n",
    "A palindrome is a string that reads the same forward and backward. It is also case-insensitive and ignores all non-alphanumeric characters.\n",
    "\n",
    "Example 1:\n",
    "\n",
    "Input: s = \"Was it a car or a cat I saw?\"\n",
    "\n",
    "Output: true\n",
    "Explanation: After considering only alphanumerical characters we have \"wasitacaroracatisaw\", which is a palindrome.\n",
    "\n",
    "Example 2:\n",
    "\n",
    "Input: s = \"tab a cat\"\n",
    "\n",
    "Output: false\n",
    "Explanation: \"tabacat\" is not a palindrome.\n",
    "\n",
    "Constraints:\n",
    "\n",
    "1 <= s.length <= 1000\n",
    "s is made up of only printable ASCII characters."
   ]
  },
  {
   "cell_type": "code",
   "execution_count": null,
   "metadata": {
    "vscode": {
     "languageId": "plaintext"
    }
   },
   "outputs": [],
   "source": [
    "class Solution:\n",
    "    def isPalindrome(self, s: str) -> bool:\n",
    "        l, r = 0, len(s) - 1\n",
    "        while l < r:\n",
    "            while not s[l].isalnum() and l < r:\n",
    "                l += 1\n",
    "            while not s[r].isalnum() and r > l:\n",
    "                r -= 1\n",
    "            if s[l].lower() != s[r].lower():\n",
    "                return False\n",
    "            l += 1\n",
    "            r -= 1\n",
    "        return True"
   ]
  }
 ],
 "metadata": {
  "language_info": {
   "name": "python"
  }
 },
 "nbformat": 4,
 "nbformat_minor": 2
}
