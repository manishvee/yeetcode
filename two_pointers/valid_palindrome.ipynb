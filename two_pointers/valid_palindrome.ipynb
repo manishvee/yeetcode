{
 "cells": [
  {
   "cell_type": "markdown",
   "metadata": {},
   "source": [
    "### Valid Palindrome\n",
    "\n",
    "#### Difficulty: Easy\n",
    "___\n",
    "Given a string s, return true if it is a palindrome, otherwise return false.\n",
    "\n",
    "A palindrome is a string that reads the same forward and backward. It is also case-insensitive and ignores all non-alphanumeric characters.\n",
    "___\n",
    "#### Examples\n",
    "- Example 1:\n",
    "\n",
    "    Input: s = \"Was it a car or a cat I saw?\"\n",
    "\n",
    "    Output: true\n",
    "\n",
    "    Explanation: After considering only alphanumerical characters we have \"wasitacaroracatisaw\", which is a palindrome.\n",
    "\n",
    "- Example 2:\n",
    "\n",
    "    Input: s = \"tab a cat\"\n",
    "\n",
    "    Output: false\n",
    "\n",
    "    Explanation: \"tabacat\" is not a palindrome.\n",
    "___\n",
    "#### Constraints:\n",
    "\n",
    "- 1 <= s.length <= 1000\n",
    "- s is made up of only printable ASCII characters."
   ]
  },
  {
   "cell_type": "markdown",
   "metadata": {},
   "source": [
    "#### Solution"
   ]
  },
  {
   "cell_type": "code",
   "execution_count": 1,
   "metadata": {},
   "outputs": [],
   "source": [
    "def isPalindrome(s: str) -> bool:\n",
    "    l, r = 0, len(s) - 1\n",
    "    while l < r:\n",
    "        while not s[l].isalnum() and l < r:\n",
    "            l += 1\n",
    "        while not s[r].isalnum() and r > l:\n",
    "            r -= 1\n",
    "        if s[l].lower() != s[r].lower():\n",
    "            return False\n",
    "        l += 1\n",
    "        r -= 1\n",
    "    return True"
   ]
  },
  {
   "cell_type": "code",
   "execution_count": 2,
   "metadata": {},
   "outputs": [
    {
     "name": "stdout",
     "output_type": "stream",
     "text": [
      "True\n",
      "False\n"
     ]
    }
   ],
   "source": [
    "test_cases = [\n",
    "    \"Was it a car or a cat I saw?\",\n",
    "    \"tab a cat\",\n",
    "]\n",
    "for case in test_cases:\n",
    "    print(isPalindrome(case))"
   ]
  },
  {
   "cell_type": "code",
   "execution_count": null,
   "metadata": {},
   "outputs": [],
   "source": []
  }
 ],
 "metadata": {
  "kernelspec": {
   "display_name": ".venv",
   "language": "python",
   "name": "python3"
  },
  "language_info": {
   "codemirror_mode": {
    "name": "ipython",
    "version": 3
   },
   "file_extension": ".py",
   "mimetype": "text/x-python",
   "name": "python",
   "nbconvert_exporter": "python",
   "pygments_lexer": "ipython3",
   "version": "3.13.2"
  }
 },
 "nbformat": 4,
 "nbformat_minor": 2
}
