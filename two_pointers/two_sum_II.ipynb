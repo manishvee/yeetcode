{
 "cells": [
  {
   "cell_type": "markdown",
   "metadata": {},
   "source": [
    "### Two Sum 2\n",
    "\n",
    "#### Difficulty: Medium\n",
    "___\n",
    "Problem Statement\n",
    "\n",
    "Given an array of integers numbers that is sorted in non-decreasing order.\n",
    "\n",
    "Return the indices (1-indexed) of two numbers, [index1, index2], such that they add up to a given target number target and index1 < index2. Note that index1 and index2 cannot be equal, therefore you may not use the same element twice.\n",
    "\n",
    "There will always be exactly one valid solution.\n",
    "\n",
    "Your solution must use O(1) additional space.\n",
    "___\n",
    "#### Examples\n",
    "- Example 1:\n",
    "\n",
    "    Input: numbers = [1,2,3,4], target = 3\n",
    "\n",
    "    Output: [1,2]\n",
    "\n",
    "    Explanation:\n",
    "    The sum of 1 and 2 is 3. Since we are assuming a 1-indexed array, index1 = 1, index2 = 2. We return [1, 2].\n",
    "___\n",
    "#### Constraints\n",
    "- 2 <= numbers.length <= 1000\n",
    "- -1000 <= numbers[i] <= 1000\n",
    "- -1000 <= target <= 1000\n",
    "\n"
   ]
  },
  {
   "cell_type": "markdown",
   "metadata": {},
   "source": [
    "#### Solution\n",
    "- Start with two pointers at either end of the input array.\n",
    "- Check their sum. If this is equal to the target, simply return the pointer indices. \n",
    "- If the sum is greater than the target, this means that we need to add up smaller numbers. Since the array is sorted in increasing order, moving the right pointer towards the left will give a smaller number.\n",
    "- If the sum is lesser than the target, the same logic applies, but in reverse. Moving the left pointer to the right gives a larger number."
   ]
  },
  {
   "cell_type": "code",
   "execution_count": 1,
   "metadata": {},
   "outputs": [],
   "source": [
    "from typing import List\n",
    "\n",
    "def twoSum(numbers: List[int], target: int) -> List[int]:\n",
    "    l, r = 0, len(numbers) - 1\n",
    "\n",
    "    while l < r:\n",
    "        if numbers[l] + numbers[r] == target:\n",
    "            return [l+1, r+1]\n",
    "        elif numbers[l] + numbers[r] < target:\n",
    "            l += 1\n",
    "        else:\n",
    "            r -= 1\n"
   ]
  },
  {
   "cell_type": "code",
   "execution_count": 2,
   "metadata": {},
   "outputs": [
    {
     "name": "stdout",
     "output_type": "stream",
     "text": [
      "[1, 2]\n"
     ]
    }
   ],
   "source": [
    "test_cases = [\n",
    "    {\n",
    "        \"numbers\": [1, 2, 3, 4],\n",
    "        \"target\": 3\n",
    "    }\n",
    "]\n",
    "\n",
    "for case in test_cases:\n",
    "    print(twoSum(**case))"
   ]
  },
  {
   "cell_type": "code",
   "execution_count": null,
   "metadata": {},
   "outputs": [],
   "source": []
  }
 ],
 "metadata": {
  "kernelspec": {
   "display_name": ".venv",
   "language": "python",
   "name": "python3"
  },
  "language_info": {
   "codemirror_mode": {
    "name": "ipython",
    "version": 3
   },
   "file_extension": ".py",
   "mimetype": "text/x-python",
   "name": "python",
   "nbconvert_exporter": "python",
   "pygments_lexer": "ipython3",
   "version": "3.13.2"
  }
 },
 "nbformat": 4,
 "nbformat_minor": 2
}
