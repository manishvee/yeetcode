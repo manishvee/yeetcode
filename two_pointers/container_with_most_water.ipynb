{
 "cells": [
  {
   "cell_type": "markdown",
   "metadata": {},
   "source": [
    "### Container with Most Water\n",
    "#### Difficulty: Medium\n",
    "___\n",
    "You are given an integer array heights where heights[i] represents the height of the `i` th bar.\n",
    "\n",
    "You may choose any two bars to form a container. Return the maximum amount of water a container can store.\n",
    "___\n",
    "#### Examples\n",
    "- Example 1:\n",
    "    ```\n",
    "    Input: height = [1,7,2,5,4,7,3,6]\n",
    "\n",
    "    Output: 36\n",
    "    ```\n",
    "\n",
    "- Example 2:\n",
    "    ```\n",
    "    Input: height = [2,2,2]\n",
    "\n",
    "    Output: 4\n",
    "    ```\n",
    "___\n",
    "#### Constraints\n",
    "- 2 <= height.length <= 1000\n",
    "- 0 <= height[i] <= 1000\n"
   ]
  },
  {
   "cell_type": "markdown",
   "metadata": {},
   "source": [
    "#### Solution\n",
    "- Start with two pointers, one at each end of the input list.\n",
    "- Calculate the area enclosed between the two bars and compare with the existing maximum area\n",
    "- Since the area depends on the height of the bars, it is necessary to maximize the height of both bars. So, only shift the pointer whose bar height is the lower of the two."
   ]
  },
  {
   "cell_type": "code",
   "execution_count": 1,
   "metadata": {},
   "outputs": [],
   "source": [
    "from typing import List\n",
    "\n",
    "def maxArea(heights: List[int]) -> int:\n",
    "    res = 0\n",
    "    l, r = 0, len(heights) - 1\n",
    "\n",
    "    while l < r:\n",
    "        area = min(heights[l], heights[r]) * (r - l)\n",
    "        res = max(res, area)\n",
    "\n",
    "        if heights[l] >= heights[r]:\n",
    "            r -= 1\n",
    "        else:\n",
    "            l += 1\n",
    "\n",
    "    return res"
   ]
  },
  {
   "cell_type": "code",
   "execution_count": 2,
   "metadata": {},
   "outputs": [
    {
     "name": "stdout",
     "output_type": "stream",
     "text": [
      "36\n",
      "4\n"
     ]
    }
   ],
   "source": [
    "test_cases = [[1,7,2,5,4,7,3,6], [2,2,2]]\n",
    "\n",
    "for case in test_cases:\n",
    "    print(maxArea(case))"
   ]
  },
  {
   "cell_type": "code",
   "execution_count": null,
   "metadata": {},
   "outputs": [],
   "source": []
  }
 ],
 "metadata": {
  "kernelspec": {
   "display_name": ".venv",
   "language": "python",
   "name": "python3"
  },
  "language_info": {
   "codemirror_mode": {
    "name": "ipython",
    "version": 3
   },
   "file_extension": ".py",
   "mimetype": "text/x-python",
   "name": "python",
   "nbconvert_exporter": "python",
   "pygments_lexer": "ipython3",
   "version": "3.13.2"
  }
 },
 "nbformat": 4,
 "nbformat_minor": 2
}
