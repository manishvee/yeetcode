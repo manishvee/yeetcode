{
 "cells": [
  {
   "cell_type": "markdown",
   "metadata": {},
   "source": [
    "### Three Sum\n",
    "\n",
    "#### Difficulty: Medium\n",
    "___\n",
    "Given an integer array nums, return all the triplets `[nums[i], nums[j], nums[k]]` where `nums[i] + nums[j] + nums[k] == 0`, and the indices i, j and k are all distinct.\n",
    "\n",
    "The output should not contain any duplicate triplets. You may return the output and the triplets in any order.\n",
    "___\n",
    "#### Examples\n",
    "- Example 1:\n",
    "    ```\n",
    "    Input: nums = [-1,0,1,2,-1,-4]\n",
    "\n",
    "    Output: [[-1,-1,2],[-1,0,1]]\n",
    "    ```\n",
    "    Explanation:\n",
    "    nums[0] + nums[1] + nums[2] = (-1) + 0 + 1 = 0.\n",
    "    nums[1] + nums[2] + nums[4] = 0 + 1 + (-1) = 0.\n",
    "    nums[0] + nums[3] + nums[4] = (-1) + 2 + (-1) = 0.\n",
    "    The distinct triplets are [-1,0,1] and [-1,-1,2].\n",
    "\n",
    "- Example 2:\n",
    "    ```\n",
    "    Input: nums = [0,1,1]\n",
    "\n",
    "    Output: []\n",
    "    ```\n",
    "    Explanation: The only possible triplet does not sum up to 0.\n",
    "\n",
    "- Example 3:\n",
    "    ```\n",
    "    Input: nums = [0,0,0]\n",
    "\n",
    "    Output: [[0,0,0]]\n",
    "    ```\n",
    "    Explanation: The only possible triplet sums up to 0.\n",
    "___\n",
    "#### Constraints\n",
    "- 3 <= nums.length <= 1000\n",
    "- -10^5 <= nums[i] <= 10^5\n",
    "\n"
   ]
  },
  {
   "cell_type": "markdown",
   "metadata": {},
   "source": [
    "#### Solution\n",
    "- The problem can basically be broken down into a modified version of the two sum problem with sorting. \n",
    "- The idea is to maintain three pointers, out of which one remains fixed for the duration of one iteration, while the other two move either left or right.\n",
    "- However, to know which direction to move the pointers in , the array must first be sorted (essentially making it the same as two sum with sorting)\n",
    "- Now, create a nested loop, the outer moves the fixed pointer after each iteration, and the inner loop moves the dynamic pointers.\n",
    "- Apply the same logic as two sum with sorting inside the inner loop, and append the results to the result set."
   ]
  },
  {
   "cell_type": "code",
   "execution_count": 1,
   "metadata": {},
   "outputs": [],
   "source": [
    "from typing import List\n",
    "\n",
    "def threeSum(nums: List[int]) -> List[List[int]]:\n",
    "    res = []\n",
    "    nums = sorted(nums)\n",
    "\n",
    "    for i in range(len(nums)):\n",
    "        l, r = i + 1, len(nums) - 1\n",
    "\n",
    "        # skip repeated elements so that result only has unique combinations\n",
    "        if i > 0 and nums[i] == nums[i-1]:\n",
    "            continue\n",
    "\n",
    "        while l < r:\n",
    "            summation = nums[i] + nums[l] + nums[r]\n",
    "            if summation == 0:\n",
    "                res.append([nums[i], nums[l], nums[r]])\n",
    "                l += 1\n",
    "                # skip repeated elements so that result only has unique combinations\n",
    "                while nums[l-1] == nums[l] and l < r:\n",
    "                    l += 1\n",
    "            elif summation < 0:\n",
    "                l += 1\n",
    "            else:\n",
    "                r -= 1\n",
    "    \n",
    "    return res"
   ]
  },
  {
   "cell_type": "code",
   "execution_count": 2,
   "metadata": {},
   "outputs": [
    {
     "name": "stdout",
     "output_type": "stream",
     "text": [
      "[[-1, -1, 2], [-1, 0, 1]]\n",
      "[]\n",
      "[[0, 0, 0]]\n"
     ]
    }
   ],
   "source": [
    "test_cases = [[-1, 0, 1, 2, -1, -4], [0, 1, 1], [0, 0, 0]]\n",
    "\n",
    "for case in test_cases:\n",
    "    print(threeSum(case))"
   ]
  },
  {
   "cell_type": "code",
   "execution_count": null,
   "metadata": {},
   "outputs": [],
   "source": []
  }
 ],
 "metadata": {
  "kernelspec": {
   "display_name": ".venv",
   "language": "python",
   "name": "python3"
  },
  "language_info": {
   "codemirror_mode": {
    "name": "ipython",
    "version": 3
   },
   "file_extension": ".py",
   "mimetype": "text/x-python",
   "name": "python",
   "nbconvert_exporter": "python",
   "pygments_lexer": "ipython3",
   "version": "3.13.2"
  }
 },
 "nbformat": 4,
 "nbformat_minor": 2
}
