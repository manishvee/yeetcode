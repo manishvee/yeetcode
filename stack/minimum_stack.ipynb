{
 "cells": [
  {
   "cell_type": "markdown",
   "metadata": {},
   "source": [
    "### Minimum Stack\n",
    "\n",
    "#### Difficulty: Medium\n",
    "___\n",
    "Design a stack class that supports the push, pop, top, and getMin operations.\n",
    "\n",
    "MinStack() initializes the stack object.\n",
    "\n",
    "- void push(int val) pushes the element val onto the stack.\n",
    "- void pop() removes the element on the top of the stack.\n",
    "- int top() gets the top element of the stack.\n",
    "- int getMin() retrieves the minimum element in the stack.\n",
    "\n",
    "Each function should run in O(1) time.\n",
    "___\n",
    "#### Examples\n",
    "- Example 1:\n",
    "\n",
    "    Input: [\"MinStack\", \"push\", 1, \"push\", 2, \"push\", 0, \"getMin\", \"pop\", \"top\", \"getMin\"]\n",
    "\n",
    "    Output: [null,null,null,null,0,null,2,1]\n",
    "\n",
    "    Explanation:\n",
    "    ```\n",
    "    MinStack minStack = new MinStack();\n",
    "    minStack.push(1);\n",
    "    minStack.push(2);\n",
    "    minStack.push(0);\n",
    "    minStack.getMin(); // return 0\n",
    "    minStack.pop();\n",
    "    minStack.top();    // return 2\n",
    "    minStack.getMin(); // return 1\n",
    "    ```\n",
    "___\n",
    "#### Constraints\n",
    "- -2^31 <= val <= 2^31 - 1.\n",
    "- pop, top and getMin will always be called on non-empty stacks."
   ]
  },
  {
   "cell_type": "markdown",
   "metadata": {},
   "source": [
    "#### Solution"
   ]
  },
  {
   "cell_type": "code",
   "execution_count": 1,
   "metadata": {},
   "outputs": [],
   "source": [
    "class MinStack:\n",
    "    def __init__(self):\n",
    "        self.stack = []\n",
    "        self.min_tracker = []\n",
    "\n",
    "    def push(self, val: int) -> None:\n",
    "        self.stack.append(val)\n",
    "\n",
    "        val = min(val, self.min_tracker[-1] if self.min_tracker else val)\n",
    "        self.min_tracker.append(val)\n",
    "\n",
    "    def pop(self) -> None:\n",
    "        self.stack.pop()\n",
    "        self.min_tracker.pop()\n",
    "\n",
    "    def top(self) -> int:\n",
    "        return self.stack[-1]\n",
    "\n",
    "    def getMin(self) -> int:\n",
    "        return self.min_tracker[-1]"
   ]
  }
 ],
 "metadata": {
  "kernelspec": {
   "display_name": ".venv",
   "language": "python",
   "name": "python3"
  },
  "language_info": {
   "codemirror_mode": {
    "name": "ipython",
    "version": 3
   },
   "file_extension": ".py",
   "mimetype": "text/x-python",
   "name": "python",
   "nbconvert_exporter": "python",
   "pygments_lexer": "ipython3",
   "version": "3.13.2"
  }
 },
 "nbformat": 4,
 "nbformat_minor": 2
}
