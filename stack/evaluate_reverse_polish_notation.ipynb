{
 "cells": [
  {
   "cell_type": "markdown",
   "metadata": {},
   "source": [
    "### Evaluate Reverse Polish Notation\n",
    "\n",
    "#### Difficulty: Medium\n",
    "___\n",
    "You are given an array of strings tokens that represents a valid arithmetic expression in Reverse Polish Notation.\n",
    "\n",
    "Return the integer that represents the evaluation of the expression.\n",
    "\n",
    "- The operands may be integers or the results of other operations.\n",
    "- The operators include '+', '-', '*', and '/'.\n",
    "- Assume that division between integers always truncates toward zero.\n",
    "___\n",
    "#### Examples\n",
    "- Example 1:\n",
    "\n",
    "    Input: tokens = [\"1\",\"2\",\"+\",\"3\",\"*\",\"4\",\"-\"]\n",
    "\n",
    "    Output: 5\n",
    "\n",
    "    Explanation: ((1 + 2) * 3) - 4 = 5\n",
    "___\n",
    "#### Constraints\n",
    "- 1 <= tokens.length <= 1000.\n",
    "- tokens[i] is \"+\", \"-\", \"*\", or \"/\", or a string representing an integer in the range [-100, 100].\n"
   ]
  },
  {
   "cell_type": "markdown",
   "metadata": {},
   "source": [
    "#### Solution"
   ]
  },
  {
   "cell_type": "code",
   "execution_count": 1,
   "metadata": {},
   "outputs": [],
   "source": [
    "from typing import List\n",
    "\n",
    "def evalRPN(tokens: List[str]) -> int:\n",
    "    stack = []\n",
    "\n",
    "    for t in tokens:\n",
    "        if t in {\"+\", \"-\", \"*\", \"/\"}:\n",
    "            r, l = int(stack.pop()), int(stack.pop())\n",
    "\n",
    "            if t == \"*\":\n",
    "                stack.append(l*r)\n",
    "            elif t == \"+\":\n",
    "                stack.append(l+r)\n",
    "            elif t == \"-\":\n",
    "                stack.append(l-r)\n",
    "            elif t == \"/\":\n",
    "                stack.append(int(float(l)/r))\n",
    "        else:\n",
    "            stack.append(t)\n",
    "\n",
    "    return int(stack.pop())"
   ]
  },
  {
   "cell_type": "code",
   "execution_count": 2,
   "metadata": {},
   "outputs": [
    {
     "name": "stdout",
     "output_type": "stream",
     "text": [
      "5\n"
     ]
    }
   ],
   "source": [
    "test_cases = [[\"1\",\"2\",\"+\",\"3\",\"*\",\"4\",\"-\"]]\n",
    "\n",
    "for case in test_cases:\n",
    "    print(evalRPN(case))"
   ]
  },
  {
   "cell_type": "code",
   "execution_count": null,
   "metadata": {},
   "outputs": [],
   "source": []
  }
 ],
 "metadata": {
  "kernelspec": {
   "display_name": ".venv",
   "language": "python",
   "name": "python3"
  },
  "language_info": {
   "codemirror_mode": {
    "name": "ipython",
    "version": 3
   },
   "file_extension": ".py",
   "mimetype": "text/x-python",
   "name": "python",
   "nbconvert_exporter": "python",
   "pygments_lexer": "ipython3",
   "version": "3.13.2"
  }
 },
 "nbformat": 4,
 "nbformat_minor": 2
}
