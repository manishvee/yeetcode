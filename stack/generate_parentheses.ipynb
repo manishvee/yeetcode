{
 "cells": [
  {
   "cell_type": "markdown",
   "metadata": {},
   "source": [
    "### Generate Parentheses\n",
    "\n",
    "#### Difficulty: Medium\n",
    "___\n",
    "You are given an integer n. Return all well-formed parentheses strings that you can generate with n pairs of parentheses.\n",
    "___\n",
    "#### Examples\n",
    "- Example 1:\n",
    "\n",
    "    Input: n = 1\n",
    "\n",
    "    Output: [\"()\"]\n",
    "- Example 2:\n",
    "\n",
    "    Input: n = 3\n",
    "\n",
    "    Output: [\"((()))\",\"(()())\",\"(())()\",\"()(())\",\"()()()\"]\n",
    "___\n",
    "#### Constraints\n",
    "- 1 <= n <= 7\n"
   ]
  },
  {
   "cell_type": "markdown",
   "metadata": {},
   "source": [
    "#### Solution"
   ]
  },
  {
   "cell_type": "code",
   "execution_count": 1,
   "metadata": {},
   "outputs": [],
   "source": [
    "from typing import List\n",
    "\n",
    "def generateParenthesis(n: int) -> List[str]:\n",
    "    res = []\n",
    "    def gen(s, opened, closed):\n",
    "        if opened == closed and opened == n:\n",
    "            res.append(s)\n",
    "\n",
    "        if opened < n:\n",
    "            gen(s + \"(\", opened + 1, closed)\n",
    "\n",
    "        if opened > closed:\n",
    "            gen(s + \")\", opened, closed + 1)\n",
    "\n",
    "    gen(\"\", 0, 0)\n",
    "    return res"
   ]
  },
  {
   "cell_type": "code",
   "execution_count": 2,
   "metadata": {},
   "outputs": [
    {
     "name": "stdout",
     "output_type": "stream",
     "text": [
      "['()']\n",
      "['((()))', '(()())', '(())()', '()(())', '()()()']\n"
     ]
    }
   ],
   "source": [
    "test_cases = [1, 3]\n",
    "\n",
    "for case in test_cases:\n",
    "    print(generateParenthesis(case))"
   ]
  },
  {
   "cell_type": "code",
   "execution_count": null,
   "metadata": {},
   "outputs": [],
   "source": []
  }
 ],
 "metadata": {
  "kernelspec": {
   "display_name": ".venv",
   "language": "python",
   "name": "python3"
  },
  "language_info": {
   "codemirror_mode": {
    "name": "ipython",
    "version": 3
   },
   "file_extension": ".py",
   "mimetype": "text/x-python",
   "name": "python",
   "nbconvert_exporter": "python",
   "pygments_lexer": "ipython3",
   "version": "3.13.2"
  }
 },
 "nbformat": 4,
 "nbformat_minor": 2
}
