{
 "cells": [
  {
   "cell_type": "markdown",
   "metadata": {},
   "source": [
    "### Car Fleet\n",
    "\n",
    "#### Difficulty: Medium\n",
    "___\n",
    "Problem Statement\n",
    "\n",
    "There are n cars traveling to the same destination on a one-lane highway.\n",
    "\n",
    "You are given two arrays of integers position and speed, both of length n.\n",
    "\n",
    "- position[i] is the position of the ith car (in miles)\n",
    "- speed[i] is the speed of the ith car (in miles per hour)\n",
    "\n",
    "The destination is at position target miles.\n",
    "\n",
    "A car can not pass another car ahead of it. It can only catch up to another car and then drive at the same speed as the car ahead of it.\n",
    "\n",
    "A car fleet is a non-empty set of cars driving at the same position and same speed. A single car is also considered a car fleet.\n",
    "\n",
    "If a car catches up to a car fleet the moment the fleet reaches the destination, then the car is considered to be part of the fleet.\n",
    "\n",
    "Return the number of different car fleets that will arrive at the destination.\n",
    "___\n",
    "#### Examples\n",
    "- Example 1:\n",
    "\n",
    "    ```\n",
    "    Input: target = 10, position = [1,4], speed = [3,2]\n",
    "\n",
    "    Output: 1\n",
    "    ```\n",
    "\n",
    "    Explanation: The cars starting at 1 (speed 3) and 4 (speed 2) become a fleet, meeting each other at 10, the destination.\n",
    "\n",
    "- Example 2:\n",
    "\n",
    "    ```\n",
    "    Input: target = 10, position = [4,1,0,7], speed = [2,2,1,1]\n",
    "\n",
    "    Output: 3\n",
    "    ```\n",
    "\n",
    "    Explanation: The cars starting at 4 and 7 become a fleet at position 10. The cars starting at 1 and 0 never catch up to the car ahead of them. Thus, there are 3 car fleets that will arrive at the destination.\n",
    "___\n",
    "#### Constraints\n",
    "- n == position.length == speed.length.\n",
    "- 1 <= n <= 1000\n",
    "- 0 < target <= 1000\n",
    "- 0 < speed[i] <= 100\n",
    "- 0 <= position[i] < target\n",
    "- All the values of position are unique."
   ]
  },
  {
   "cell_type": "markdown",
   "metadata": {},
   "source": [
    "#### Solution"
   ]
  },
  {
   "cell_type": "code",
   "execution_count": 1,
   "metadata": {},
   "outputs": [],
   "source": [
    "from typing import List\n",
    "\n",
    "def carFleet(target: int, position: List[int], speed: List[int]) -> int:\n",
    "    stack = []\n",
    "\n",
    "    arr = list(zip(position, speed))\n",
    "    arr = sorted(arr, reverse=True)\n",
    "\n",
    "    for pos, spd in arr:\n",
    "        time = (target - pos) / spd\n",
    "        stack.append(time)\n",
    "        if len(stack) >= 2 and stack[-1] <= stack[-2]:\n",
    "            stack.pop()\n",
    "\n",
    "    return len(stack)"
   ]
  },
  {
   "cell_type": "code",
   "execution_count": 3,
   "metadata": {},
   "outputs": [
    {
     "name": "stdout",
     "output_type": "stream",
     "text": [
      "1\n",
      "3\n"
     ]
    }
   ],
   "source": [
    "test_cases = [\n",
    "    {\n",
    "        \"target\": 10,\n",
    "        \"position\": [1, 4],\n",
    "        \"speed\": [3, 2]\n",
    "    },\n",
    "    {\n",
    "        \"target\": 10,\n",
    "        \"position\": [4, 1, 0, 7],\n",
    "        \"speed\": [2, 2, 1, 1]\n",
    "    }\n",
    "]\n",
    "\n",
    "for case in test_cases:\n",
    "    print(carFleet(**case))"
   ]
  },
  {
   "cell_type": "code",
   "execution_count": null,
   "metadata": {},
   "outputs": [],
   "source": []
  }
 ],
 "metadata": {
  "kernelspec": {
   "display_name": ".venv",
   "language": "python",
   "name": "python3"
  },
  "language_info": {
   "codemirror_mode": {
    "name": "ipython",
    "version": 3
   },
   "file_extension": ".py",
   "mimetype": "text/x-python",
   "name": "python",
   "nbconvert_exporter": "python",
   "pygments_lexer": "ipython3",
   "version": "3.13.2"
  }
 },
 "nbformat": 4,
 "nbformat_minor": 2
}
