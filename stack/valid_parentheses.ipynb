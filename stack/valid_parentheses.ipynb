{
 "cells": [
  {
   "cell_type": "markdown",
   "metadata": {},
   "source": [
    "### Valid Parentheses\n",
    "\n",
    "#### Difficulty: Easy\n",
    "___\n",
    "You are given a string s consisting of the following characters: '(', ')', '{', '}', '[' and ']'.\n",
    "\n",
    "The input string s is valid if and only if:\n",
    "\n",
    "Every open bracket is closed by the same type of close bracket.\n",
    "Open brackets are closed in the correct order.\n",
    "Every close bracket has a corresponding open bracket of the same type.\n",
    "Return true if s is a valid string, and false otherwise.\n",
    "___\n",
    "#### Examples\n",
    "\n",
    "- Example 1:\n",
    "\n",
    "    Input: s = \"[]\"\n",
    "\n",
    "    Output: true\n",
    "\n",
    "- Example 2:\n",
    "\n",
    "    Input: s = \"([{}])\"\n",
    "\n",
    "    Output: true\n",
    "\n",
    "- Example 3:\n",
    "\n",
    "    Input: s = \"[(])\"\n",
    "\n",
    "    Output: false\n",
    "\n",
    "    Explanation: The brackets are not closed in the correct order.\n",
    "___\n",
    "#### Constraints:\n",
    "\n",
    "- 1 <= s.length <= 1000"
   ]
  },
  {
   "cell_type": "markdown",
   "metadata": {},
   "source": [
    "#### Solution"
   ]
  },
  {
   "cell_type": "code",
   "execution_count": 1,
   "metadata": {},
   "outputs": [],
   "source": [
    "def isValid(s: str) -> bool:\n",
    "    stack = []\n",
    "    mapping = {\")\": \"(\", \"]\": \"[\", \"}\": \"{\"}\n",
    "    for c in s:\n",
    "        if c in mapping.values():\n",
    "            stack.append(c)\n",
    "        elif stack and stack[-1] == mapping[c]:\n",
    "            stack.pop()\n",
    "        else:\n",
    "            return False\n",
    "    return not stack"
   ]
  },
  {
   "cell_type": "code",
   "execution_count": 2,
   "metadata": {},
   "outputs": [
    {
     "name": "stdout",
     "output_type": "stream",
     "text": [
      "True\n",
      "True\n",
      "False\n"
     ]
    }
   ],
   "source": [
    "test_cases = [\n",
    "    \"[]\",\n",
    "    \"([{}])\",\n",
    "    \"[(])\",\n",
    "]\n",
    "for case in test_cases:\n",
    "    print(isValid(case))"
   ]
  },
  {
   "cell_type": "code",
   "execution_count": null,
   "metadata": {},
   "outputs": [],
   "source": []
  }
 ],
 "metadata": {
  "kernelspec": {
   "display_name": ".venv",
   "language": "python",
   "name": "python3"
  },
  "language_info": {
   "codemirror_mode": {
    "name": "ipython",
    "version": 3
   },
   "file_extension": ".py",
   "mimetype": "text/x-python",
   "name": "python",
   "nbconvert_exporter": "python",
   "pygments_lexer": "ipython3",
   "version": "3.13.2"
  }
 },
 "nbformat": 4,
 "nbformat_minor": 2
}
