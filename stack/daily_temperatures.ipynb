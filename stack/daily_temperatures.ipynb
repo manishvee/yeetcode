{
 "cells": [
  {
   "cell_type": "markdown",
   "metadata": {},
   "source": [
    "### Daily Temperatures\n",
    "\n",
    "#### Difficulty: Medium\n",
    "___\n",
    "You are given an array of integers temperatures where temperatures[i] represents the daily temperatures on the ith day.\n",
    "\n",
    "Return an array result where result[i] is the number of days after the ith day before a warmer temperature appears on a future day. If there is no day in the future where a warmer temperature will appear for the ith day, set result[i] to 0 instead.\n",
    "___\n",
    "#### Examples\n",
    "- Example 1:\n",
    "    ```\n",
    "    Input: temperatures = [30,38,30,36,35,40,28]\n",
    "\n",
    "    Output: [1,4,1,2,1,0,0]\n",
    "    ```\n",
    "- Example 2:\n",
    "    ```\n",
    "    Input: temperatures = [22,21,20]\n",
    "\n",
    "    Output: [0,0,0]\n",
    "    ```\n",
    "___\n",
    "#### Constraints\n",
    "- 1 <= temperatures.length <= 1000.\n",
    "- 1 <= temperatures[i] <= 100\n"
   ]
  },
  {
   "cell_type": "markdown",
   "metadata": {},
   "source": [
    "#### Solution"
   ]
  },
  {
   "cell_type": "code",
   "execution_count": 1,
   "metadata": {},
   "outputs": [],
   "source": [
    "from typing import List\n",
    "\n",
    "def dailyTemperatures(temperatures: List[int]) -> List[int]:\n",
    "    res = [0] * len(temperatures)\n",
    "    stack = []\n",
    "\n",
    "    for i in range(len(temperatures)):\n",
    "        while stack and stack[-1][0] < temperatures[i]:\n",
    "            _, idx = stack.pop()\n",
    "            res[idx] = i - idx\n",
    "            \n",
    "        stack.append((temperatures[i], i))\n",
    "\n",
    "    return res"
   ]
  },
  {
   "cell_type": "code",
   "execution_count": 2,
   "metadata": {},
   "outputs": [
    {
     "name": "stdout",
     "output_type": "stream",
     "text": [
      "[1, 4, 1, 2, 1, 0, 0]\n",
      "[0, 0, 0]\n"
     ]
    }
   ],
   "source": [
    "test_cases = [[30, 38, 30, 36, 35, 40, 28], [22, 21, 20]]\n",
    "\n",
    "for case in test_cases:\n",
    "    print(dailyTemperatures(case))"
   ]
  },
  {
   "cell_type": "code",
   "execution_count": null,
   "metadata": {},
   "outputs": [],
   "source": []
  }
 ],
 "metadata": {
  "kernelspec": {
   "display_name": ".venv",
   "language": "python",
   "name": "python3"
  },
  "language_info": {
   "codemirror_mode": {
    "name": "ipython",
    "version": 3
   },
   "file_extension": ".py",
   "mimetype": "text/x-python",
   "name": "python",
   "nbconvert_exporter": "python",
   "pygments_lexer": "ipython3",
   "version": "3.13.2"
  }
 },
 "nbformat": 4,
 "nbformat_minor": 2
}
