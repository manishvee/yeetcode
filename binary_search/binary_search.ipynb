{
 "cells": [
  {
   "cell_type": "markdown",
   "metadata": {},
   "source": [
    "### Binary Search \n",
    "\n",
    "#### Difficulty: Easy\n",
    "___\n",
    "Problem Statement\n",
    "You are given an array of distinct integers nums, sorted in ascending order, and an integer target.\n",
    "\n",
    "Implement a function to search for target within nums. If it exists, then return its index, otherwise, return -1.\n",
    "\n",
    "Your solution must run in O(logn) time.\n",
    "\n",
    "___\n",
    "#### Examples\n",
    "- Example 1:\n",
    "    ```\n",
    "    Input: nums = [-1,0,2,4,6,8], target = 4\n",
    "\n",
    "    Output: 3\n",
    "    ```\n",
    "- Example 2:\n",
    "    ```\n",
    "    Input: nums = [-1,0,2,4,6,8], target = 3\n",
    "\n",
    "    Output: -1\n",
    "    ```\n",
    "___\n",
    "#### Constraints\n",
    "- 1 <= nums.length <= 10000.\n",
    "- -10000 < nums[i], target < 10000\n",
    "- All the integers in nums are unique.\n"
   ]
  },
  {
   "cell_type": "markdown",
   "metadata": {},
   "source": [
    "#### Solution"
   ]
  },
  {
   "cell_type": "code",
   "execution_count": 3,
   "metadata": {},
   "outputs": [],
   "source": [
    "from typing import List\n",
    "\n",
    "def search(nums: List[int], target: int) -> int:\n",
    "    l, r = 0, len(nums) - 1\n",
    "\n",
    "    while l <= r:\n",
    "        mid = (l + r)//2\n",
    "        if nums[mid] == target:\n",
    "            return mid\n",
    "        elif target < nums[mid]:\n",
    "            r = mid - 1\n",
    "        else:\n",
    "            l = mid + 1\n",
    "\n",
    "    return -1"
   ]
  },
  {
   "cell_type": "code",
   "execution_count": 4,
   "metadata": {},
   "outputs": [
    {
     "name": "stdout",
     "output_type": "stream",
     "text": [
      "3\n",
      "-1\n"
     ]
    }
   ],
   "source": [
    "test_cases = [\n",
    "    {\n",
    "        \"nums\": [-1,0,2,4,6,8],\n",
    "        \"target\": 4 \n",
    "    },\n",
    "    {\n",
    "        \"nums\": [-1,0,2,4,6,8],\n",
    "        \"target\": 3\n",
    "    }\n",
    "]\n",
    "\n",
    "for case in test_cases:\n",
    "    print(search(**case))"
   ]
  }
 ],
 "metadata": {
  "kernelspec": {
   "display_name": ".venv",
   "language": "python",
   "name": "python3"
  },
  "language_info": {
   "codemirror_mode": {
    "name": "ipython",
    "version": 3
   },
   "file_extension": ".py",
   "mimetype": "text/x-python",
   "name": "python",
   "nbconvert_exporter": "python",
   "pygments_lexer": "ipython3",
   "version": "3.13.2"
  }
 },
 "nbformat": 4,
 "nbformat_minor": 2
}
