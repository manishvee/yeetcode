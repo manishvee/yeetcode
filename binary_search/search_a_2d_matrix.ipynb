{
 "cells": [
  {
   "cell_type": "markdown",
   "metadata": {},
   "source": [
    "### Search a 2D Matrix \n",
    "\n",
    "#### Difficulty: Medium\n",
    "___\n",
    "Problem Statement\n",
    "You are given an m x n 2-D integer array matrix and an integer target.\n",
    "\n",
    "Each row in matrix is sorted in non-decreasing order.\n",
    "The first integer of every row is greater than the last integer of the previous row.\n",
    "Return true if target exists within matrix or false otherwise.\n",
    "\n",
    "Can you write a solution that runs in O(log(m * n)) time?\n",
    "___\n",
    "#### Examples\n",
    "- Example 1:\n",
    "    ```\n",
    "    Input: matrix = [[1,2,4,8],[10,11,12,13],[14,20,30,40]], target = 10\n",
    "\n",
    "    Output: true\n",
    "    ```\n",
    "\n",
    "- Example 2:\n",
    "    ```\n",
    "    Input: matrix = [[1,2,4,8],[10,11,12,13],[14,20,30,40]], target = 15\n",
    "\n",
    "    Output: false\n",
    "    ```\n",
    "___\n",
    "#### Constraints\n",
    "- m == matrix.length\n",
    "- n == matrix[i].length\n",
    "- 1 <= m, n <= 100\n",
    "- -10000 <= matrix[i][j], target <= 10000\n"
   ]
  },
  {
   "cell_type": "markdown",
   "metadata": {},
   "source": [
    "#### Solution"
   ]
  },
  {
   "cell_type": "code",
   "execution_count": 1,
   "metadata": {},
   "outputs": [],
   "source": [
    "from typing import List\n",
    "\n",
    "def searchMatrix(matrix: List[List[int]], target: int) -> bool:\n",
    "    C = len(matrix[0])\n",
    "    l, r = 0, (len(matrix) * C) - 1\n",
    "\n",
    "    while l <= r:\n",
    "        mid = (l + r) // 2\n",
    "        row, col = mid // C, mid % C\n",
    "        if matrix[row][col] < target:\n",
    "            l = mid + 1\n",
    "        elif matrix[row][col] > target:\n",
    "            r = mid - 1\n",
    "        else:\n",
    "            return True\n",
    "            \n",
    "    return False"
   ]
  },
  {
   "cell_type": "code",
   "execution_count": 3,
   "metadata": {},
   "outputs": [
    {
     "name": "stdout",
     "output_type": "stream",
     "text": [
      "True\n",
      "False\n"
     ]
    }
   ],
   "source": [
    "test_cases = [\n",
    "    {\n",
    "        \"matrix\": [[1, 2, 4, 8], [10, 11, 12, 13], [14, 20, 30, 40]],\n",
    "        \"target\": 10,\n",
    "    },\n",
    "    {\n",
    "        \"matrix\": [[1, 2, 4, 8], [10, 11, 12, 13], [14, 20, 30, 40]],\n",
    "        \"target\": 15,\n",
    "    },\n",
    "]\n",
    "\n",
    "for case in test_cases:\n",
    "    print(searchMatrix(**case))"
   ]
  },
  {
   "cell_type": "code",
   "execution_count": null,
   "metadata": {},
   "outputs": [],
   "source": []
  }
 ],
 "metadata": {
  "kernelspec": {
   "display_name": ".venv",
   "language": "python",
   "name": "python3"
  },
  "language_info": {
   "codemirror_mode": {
    "name": "ipython",
    "version": 3
   },
   "file_extension": ".py",
   "mimetype": "text/x-python",
   "name": "python",
   "nbconvert_exporter": "python",
   "pygments_lexer": "ipython3",
   "version": "3.13.2"
  }
 },
 "nbformat": 4,
 "nbformat_minor": 2
}
